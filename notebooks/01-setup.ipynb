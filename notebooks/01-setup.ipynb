{
 "cells": [
  {
   "cell_type": "code",
   "execution_count": 6,
   "metadata": {},
   "outputs": [],
   "source": [
    "# !pip install python-dotenv\n",
    "from dotenv import load_dotenv, find_dotenv\n",
    "import os\n",
    "import requests\n",
    "from requests import session"
   ]
  },
  {
   "cell_type": "code",
   "execution_count": 5,
   "metadata": {},
   "outputs": [
    {
     "data": {
      "text/plain": [
       "True"
      ]
     },
     "execution_count": 5,
     "metadata": {},
     "output_type": "execute_result"
    }
   ],
   "source": [
    "dot_env_path = find_dotenv()\n",
    "load_dotenv(dot_env_path)"
   ]
  },
  {
   "cell_type": "code",
   "execution_count": 8,
   "metadata": {},
   "outputs": [
    {
     "data": {
      "text/plain": [
       "'Finger@2009'"
      ]
     },
     "execution_count": 8,
     "metadata": {},
     "output_type": "execute_result"
    }
   ],
   "source": [
    "# os.environ.get('KAGGLE_UID')\n",
    "# os.environ.get('KAGGLE_PWD')"
   ]
  },
  {
   "cell_type": "code",
   "execution_count": 9,
   "metadata": {},
   "outputs": [],
   "source": [
    "payload = {\n",
    "    'action': 'login',\n",
    "    'username': os.environ.get('KAGGLE_UID'),\n",
    "    'password': os.environ.get('KAGGLE_PWD')\n",
    "}"
   ]
  },
  {
   "cell_type": "code",
   "execution_count": 10,
   "metadata": {},
   "outputs": [],
   "source": [
    "file_path = os.path.join(os.path.pardir,'src','data', 'get_raw_data.py')"
   ]
  },
  {
   "cell_type": "code",
   "execution_count": 12,
   "metadata": {},
   "outputs": [
    {
     "name": "stdout",
     "output_type": "stream",
     "text": [
      "Writing ..\\src\\data\\get_raw_data.py\n"
     ]
    }
   ],
   "source": [
    "%%writefile $file_path\n",
    "# -*- coding: utf-8 -*-\n",
    "import os\n",
    "from dotenv import find_dotenv, load_dotenv\n",
    "from requests import session\n",
    "import logging\n",
    "\n",
    "\n",
    "def main(project_dir):\n",
    "    # get logger\n",
    "    logger = logging.getLogger(__name__)\n",
    "    logger.info('getting raw data')\n",
    "\n",
    "\n",
    "if __name__ == '__main__':\n",
    "    # getting root directory\n",
    "    project_dir = os.path.join(os.path.dirname(__file__), os.pardir, os.pardir)\n",
    "    \n",
    "    # setup logger\n",
    "    log_fmt = '%(asctime)s - %(name)s - %(levelname)s - %(message)s'\n",
    "    logging.basicConfig(level=logging.INFO, format=log_fmt)\n",
    "\n",
    "    # find .env automatically by walking up directories until it's found\n",
    "    dotenv_path = find_dotenv()\n",
    "    # load up the entries as environment variables\n",
    "    load_dotenv(dotenv_path)\n",
    "\n",
    "    # call the main\n",
    "    main(project_dir)    "
   ]
  },
  {
   "cell_type": "code",
   "execution_count": null,
   "metadata": {},
   "outputs": [],
   "source": []
  }
 ],
 "metadata": {
  "kernelspec": {
   "display_name": "Python 3",
   "language": "python",
   "name": "python3"
  },
  "language_info": {
   "codemirror_mode": {
    "name": "ipython",
    "version": 3
   },
   "file_extension": ".py",
   "mimetype": "text/x-python",
   "name": "python",
   "nbconvert_exporter": "python",
   "pygments_lexer": "ipython3",
   "version": "3.7.6"
  }
 },
 "nbformat": 4,
 "nbformat_minor": 4
}
